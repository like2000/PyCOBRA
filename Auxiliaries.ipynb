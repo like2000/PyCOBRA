{
 "cells": [
  {
   "cell_type": "code",
   "execution_count": 11,
   "metadata": {
    "collapsed": false
   },
   "outputs": [
    {
     "name": "stdout",
     "output_type": "stream",
     "text": [
      "IPython console for SymPy 0.7.6 (Python 2.7.8-64-bit) (ground types: python)\n",
      "\n",
      "These commands were executed:\n",
      ">>> from __future__ import division\n",
      ">>> from sympy import *\n",
      ">>> x, y, z, t = symbols('x y z t')\n",
      ">>> k, m, n = symbols('k m n', integer=True)\n",
      ">>> f, g, h = symbols('f g h', cls=Function)\n",
      ">>> init_printing()\n",
      "\n",
      "Documentation can be found at http://www.sympy.org\n"
     ]
    }
   ],
   "source": [
    "from sympy import init_session, init_printing, Matrix\n",
    "init_session()\n",
    "init_printing()"
   ]
  },
  {
   "cell_type": "markdown",
   "metadata": {},
   "source": [
    "## Twiss Matrices"
   ]
  },
  {
   "cell_type": "code",
   "execution_count": 37,
   "metadata": {
    "collapsed": false
   },
   "outputs": [],
   "source": [
    "B, Bi, R, mu     = symbols('B, B_{inv}, R, mu')\n",
    "a0, a1, b0, b1   = symbols('alpha_0, alpha_1, beta_0, beta_1', real=True, positive=True)\n",
    "# V, h, phi, eta, R, C = symbols('V, h, phi, eta, R, C')\n",
    "# z, dp                = symbols('z, dp', real=True)\n",
    "# Hc                   = symbols('H_c')\n",
    "\n",
    "\n",
    "B  = Matrix([[1/sqrt(b0), 0], [a0/sqrt(b0), sqrt(b0)]])\n",
    "R  = Matrix([[cos(mu), sin(mu)], [-sin(mu), cos(mu)]])\n",
    "Bi = Matrix([[sqrt(b1), 0], [-a1/sqrt(b1), 1/sqrt(b1)]])"
   ]
  },
  {
   "cell_type": "code",
   "execution_count": 39,
   "metadata": {
    "collapsed": false
   },
   "outputs": [
    {
     "data": {
      "image/png": "[encoded data removed]",
      "text/latex": [
       "$$\\left[\\begin{matrix}\\frac{\\sqrt{\\beta_{1}}}{\\sqrt{\\beta_{0}}} \\left(\\alpha_{0} \\sin{\\left (\\mu \\right )} + \\cos{\\left (\\mu \\right )}\\right) & \\sqrt{\\beta_{0}} \\sqrt{\\beta_{1}} \\sin{\\left (\\mu \\right )}\\\\\\frac{1}{\\sqrt{\\beta_{0}} \\sqrt{\\beta_{1}}} \\left(- \\alpha_{0} \\alpha_{1} \\sin{\\left (\\mu \\right )} + \\alpha_{0} \\cos{\\left (\\mu \\right )} - \\alpha_{1} \\cos{\\left (\\mu \\right )} - \\sin{\\left (\\mu \\right )}\\right) & \\frac{\\sqrt{\\beta_{0}}}{\\sqrt{\\beta_{1}}} \\left(- \\alpha_{1} \\sin{\\left (\\mu \\right )} + \\cos{\\left (\\mu \\right )}\\right)\\end{matrix}\\right]$$"
      ],
      "text/plain": [
       "⎡           ____                                                             ⎤\n",
       "⎢         ╲╱ β₁ ⋅(α₀⋅sin(μ) + cos(μ))                  ____   ____           ⎥\n",
       "⎢         ───────────────────────────                ╲╱ β₀ ⋅╲╱ β₁ ⋅sin(μ)    ⎥\n",
       "⎢                      ____                                                  ⎥\n",
       "⎢                    ╲╱ β₀                                                   ⎥\n",
       "⎢                                                                            ⎥\n",
       "⎢                                                  ____                      ⎥\n",
       "⎢-α₀⋅α₁⋅sin(μ) + α₀⋅cos(μ) - α₁⋅cos(μ) - sin(μ)  ╲╱ β₀ ⋅(-α₁⋅sin(μ) + cos(μ))⎥\n",
       "⎢──────────────────────────────────────────────  ────────────────────────────⎥\n",
       "⎢                  ____   ____                                ____           ⎥\n",
       "⎣                ╲╱ β₀ ⋅╲╱ β₁                               ╲╱ β₁            ⎦"
      ]
     },
     "execution_count": 39,
     "metadata": {},
     "output_type": "execute_result"
    }
   ],
   "source": [
    "expand_trig(simplify(trigsimp(Bi * R * B)))"
   ]
  },
  {
   "cell_type": "code",
   "execution_count": 41,
   "metadata": {
    "collapsed": false
   },
   "outputs": [
    {
     "data": {
      "image/png": "[encoded data removed]",
      "text/latex": [
       "$$\\left[\\begin{matrix}\\frac{\\sqrt{\\beta_{1}}}{\\sqrt{\\beta_{0}}} & 0\\\\\\frac{\\alpha_{0} - \\alpha_{1}}{\\sqrt{\\beta_{0}} \\sqrt{\\beta_{1}}} & \\frac{\\sqrt{\\beta_{0}}}{\\sqrt{\\beta_{1}}}\\end{matrix}\\right]$$"
      ],
      "text/plain": [
       "⎡     ____            ⎤\n",
       "⎢   ╲╱ β₁             ⎥\n",
       "⎢   ──────        0   ⎥\n",
       "⎢     ____            ⎥\n",
       "⎢   ╲╱ β₀             ⎥\n",
       "⎢                     ⎥\n",
       "⎢                 ____⎥\n",
       "⎢   α₀ - α₁     ╲╱ β₀ ⎥\n",
       "⎢─────────────  ──────⎥\n",
       "⎢  ____   ____    ____⎥\n",
       "⎣╲╱ β₀ ⋅╲╱ β₁   ╲╱ β₁ ⎦"
      ]
     },
     "execution_count": 41,
     "metadata": {},
     "output_type": "execute_result"
    }
   ],
   "source": [
    "simplify(Bi * Matrix([[1, 0],[0, 1]]) * B)"
   ]
  },
  {
   "cell_type": "code",
   "execution_count": 42,
   "metadata": {
    "collapsed": false
   },
   "outputs": [
    {
     "data": {
      "image/png": "[encoded data removed]",
      "text/latex": [
       "$$\\left[\\begin{matrix}\\frac{\\alpha_{0} \\sqrt{\\beta_{1}}}{\\sqrt{\\beta_{0}}} & \\sqrt{\\beta_{0}} \\sqrt{\\beta_{1}}\\\\- \\frac{\\alpha_{0} \\alpha_{1} + 1}{\\sqrt{\\beta_{0}} \\sqrt{\\beta_{1}}} & - \\frac{\\alpha_{1} \\sqrt{\\beta_{0}}}{\\sqrt{\\beta_{1}}}\\end{matrix}\\right]$$"
      ],
      "text/plain": [
       "⎡       ____                 ⎤\n",
       "⎢  α₀⋅╲╱ β₁       ____   ____⎥\n",
       "⎢  ─────────    ╲╱ β₀ ⋅╲╱ β₁ ⎥\n",
       "⎢      ____                  ⎥\n",
       "⎢    ╲╱ β₀                   ⎥\n",
       "⎢                            ⎥\n",
       "⎢                      ____  ⎥\n",
       "⎢-(α₀⋅α₁ + 1)    -α₁⋅╲╱ β₀   ⎥\n",
       "⎢─────────────   ─────────── ⎥\n",
       "⎢  ____   ____        ____   ⎥\n",
       "⎣╲╱ β₀ ⋅╲╱ β₁       ╲╱ β₁    ⎦"
      ]
     },
     "execution_count": 42,
     "metadata": {},
     "output_type": "execute_result"
    }
   ],
   "source": [
    "simplify(Bi * Matrix([[0, 1],[-1, 0]]) * B)"
   ]
  },
  {
   "cell_type": "markdown",
   "metadata": {},
   "source": [
    "## Hamiltonian"
   ]
  },
  {
   "cell_type": "code",
   "execution_count": null,
   "metadata": {
    "collapsed": false
   },
   "outputs": [],
   "source": [
    "e, beta, c           = symbols('e, beta, c')\n",
    "V, h, phi, eta, R, C = symbols('V, h, phi, eta, R, C')\n",
    "z, dp                = symbols('z, dp', real=True)\n",
    "Hc                   = symbols('H_c')\n",
    "\n",
    "zs = C/h/2.\n",
    "\n",
    "def H(z, dp):\n",
    "    return -eta*beta*c*dp**2 + e*V/C * cos(h*z/R + phi)\n",
    "H(z, dp)"
   ]
  },
  {
   "cell_type": "code",
   "execution_count": null,
   "metadata": {
    "collapsed": false
   },
   "outputs": [],
   "source": [
    "def ps(z):\n",
    "    return solve(Eq(H(z,dp), 0), dp)[0]\n",
    "ps(z)"
   ]
  },
  {
   "cell_type": "code",
   "execution_count": 55,
   "metadata": {
    "collapsed": false
   },
   "outputs": [
    {
     "data": {
      "image/png": "[encoded data removed]",
      "text/latex": [
       "$$\\sqrt{\\cos{\\left (z \\right )}}$$"
      ],
      "text/plain": [
       "  ________\n",
       "╲╱ cos(z) "
      ]
     },
     "execution_count": 55,
     "metadata": {},
     "output_type": "execute_result"
    }
   ],
   "source": [
    "def ps(z):\n",
    "    return sqrt(cos(z))\n",
    "#     return -sqrt(e*V/(eta*beta*c*C) * h*z/R)\n",
    "#     return -sqrt(e*V/(eta*beta*c*C) * cos(h*z/R+phi))\n",
    "ps(z)"
   ]
  },
  {
   "cell_type": "code",
   "execution_count": null,
   "metadata": {
    "collapsed": false
   },
   "outputs": [],
   "source": [
    "integrate(ps(z), (z, -zs, zs))"
   ]
  },
  {
   "cell_type": "raw",
   "metadata": {},
   "source": []
  }
 ],
 "metadata": {
  "kernelspec": {
   "display_name": "Python 2",
   "language": "python",
   "name": "python2"
  },
  "language_info": {
   "codemirror_mode": {
    "name": "ipython",
    "version": 2
   },
   "file_extension": ".py",
   "mimetype": "text/x-python",
   "name": "python",
   "nbconvert_exporter": "python",
   "pygments_lexer": "ipython2",
   "version": "2.7.8"
  }
 },
 "nbformat": 4,
 "nbformat_minor": 0
}
